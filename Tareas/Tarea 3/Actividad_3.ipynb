{
 "cells": [
  {
   "cell_type": "markdown",
   "id": "e763b3fb-32d7-489d-9fd2-e82d2af17cde",
   "metadata": {},
   "source": [
    "Objetivo de la tarea:\n",
    "Hacer diseño de experimentos para comparar modelos y sus hiperparametros con relacion a la clasificacion de textos.\n",
    "\n",
    "Se utilizo el dataset extraido de: \n",
    "https://www.kaggle.com/datasets/detecller/book-genre-reviews\n",
    "\n",
    "Es un dataset sobre comentarios acerca de libros de los siguientes generos: (Cocina, Literatura, Romance y Ciencia Ficcion)."
   ]
  },
  {
   "cell_type": "code",
   "execution_count": 1,
   "id": "1a9b7332-edc8-450d-a9d1-b7a4266cd340",
   "metadata": {},
   "outputs": [],
   "source": [
    "# Importar librerías\n",
    "import pandas as pd\n",
    "import numpy as np\n",
    "import re\n",
    "import nltk\n",
    "from nltk.corpus import stopwords\n",
    "from sklearn.model_selection import train_test_split\n",
    "from sklearn.feature_extraction.text import TfidfVectorizer\n",
    "from sklearn.linear_model import LogisticRegression\n",
    "from sklearn.metrics import accuracy_score, classification_report, confusion_matrix\n",
    "from transformers import pipeline\n",
    "import matplotlib.pyplot as plt\n",
    "import seaborn as sns\n",
    "from wordcloud import WordCloud\n",
    "from scipy.sparse import hstack\n",
    "from nltk.tokenize import word_tokenize\n",
    "from nltk.corpus import stopwords\n",
    "import nltk\n",
    "\n",
    "# Se descarga el dataset y lo agregue a la carpeta de Jupyter notebook donde estara mi proyecto\n",
    "df = pd.read_csv('Dataset_A.csv') "
   ]
  },
  {
   "cell_type": "code",
   "execution_count": 2,
   "id": "798c2716-fa94-48f1-908c-b88f07f776c4",
   "metadata": {},
   "outputs": [
    {
     "data": {
      "text/html": [
       "<div>\n",
       "<style scoped>\n",
       "    .dataframe tbody tr th:only-of-type {\n",
       "        vertical-align: middle;\n",
       "    }\n",
       "\n",
       "    .dataframe tbody tr th {\n",
       "        vertical-align: top;\n",
       "    }\n",
       "\n",
       "    .dataframe thead th {\n",
       "        text-align: right;\n",
       "    }\n",
       "</style>\n",
       "<table border=\"1\" class=\"dataframe\">\n",
       "  <thead>\n",
       "    <tr style=\"text-align: right;\">\n",
       "      <th></th>\n",
       "      <th>Reader_Review</th>\n",
       "      <th>Book_Genre</th>\n",
       "    </tr>\n",
       "  </thead>\n",
       "  <tbody>\n",
       "    <tr>\n",
       "      <th>0</th>\n",
       "      <td>3 â­ï¸â­ï¸â­ï¸I really wanted to like th...</td>\n",
       "      <td>Romance</td>\n",
       "    </tr>\n",
       "    <tr>\n",
       "      <th>1</th>\n",
       "      <td>This is a great reference for those who follow...</td>\n",
       "      <td>Cookbook</td>\n",
       "    </tr>\n",
       "    <tr>\n",
       "      <th>2</th>\n",
       "      <td>it sucks</td>\n",
       "      <td>Romance</td>\n",
       "    </tr>\n",
       "    <tr>\n",
       "      <th>3</th>\n",
       "      <td>Note: This book was originally published in 19...</td>\n",
       "      <td>Romance</td>\n",
       "    </tr>\n",
       "    <tr>\n",
       "      <th>4</th>\n",
       "      <td>Easy 5 Stars - I read this over the course of ...</td>\n",
       "      <td>Romance</td>\n",
       "    </tr>\n",
       "  </tbody>\n",
       "</table>\n",
       "</div>"
      ],
      "text/plain": [
       "                                       Reader_Review Book_Genre\n",
       "0  3 â­ï¸â­ï¸â­ï¸I really wanted to like th...    Romance\n",
       "1  This is a great reference for those who follow...   Cookbook\n",
       "2                                           it sucks    Romance\n",
       "3  Note: This book was originally published in 19...    Romance\n",
       "4  Easy 5 Stars - I read this over the course of ...    Romance"
      ]
     },
     "execution_count": 2,
     "metadata": {},
     "output_type": "execute_result"
    }
   ],
   "source": [
    "df.head(5) # Se muestran las primeras columnas de este dataset."
   ]
  },
  {
   "cell_type": "code",
   "execution_count": 3,
   "id": "9ae9e7e3-7ffe-47c4-8758-0e722a9c77f6",
   "metadata": {},
   "outputs": [],
   "source": [
    "# Eliminar filas con valores nulos\n",
    "df = df.dropna(subset=['Reader_Review', 'Book_Genre'])"
   ]
  },
  {
   "cell_type": "code",
   "execution_count": 4,
   "id": "d11159b9-fca7-47f7-a1bd-3065c7e74bff",
   "metadata": {},
   "outputs": [],
   "source": [
    "# Limpieza de texto\n",
    "def clean_text(text):\n",
    "    text = text.lower() # Convertir a minusculas\n",
    "\n",
    "    # Tokenizar y eliminar stopwords\n",
    "    stop_words = set(stopwords.words('english')) # Devido a que los comentarios estan en ingles, se utiliza el english.\n",
    "    tokens = word_tokenize(text)\n",
    "    tokens = [word for word in tokens if word.isalnum() and word not in stop_words]\n",
    "\n",
    "    return \" \".join(tokens)\n",
    "\n",
    "df['cleaned_review'] = df['Reader_Review'].apply(clean_text)"
   ]
  },
  {
   "cell_type": "code",
   "execution_count": 5,
   "id": "19053b35-d465-490e-94d4-79aab9382e5e",
   "metadata": {},
   "outputs": [],
   "source": [
    "# Obtener el sentimiento de cada reseña\n",
    "from textblob import TextBlob\n",
    "\n",
    "# Función para obtener el sentimiento basado en la polaridad\n",
    "def get_sentiment(text):\n",
    "    blob = TextBlob(text)\n",
    "    polarity = blob.sentiment.polarity\n",
    "    # Clasificar como positivo (polarity > 0) o negativo (polarity <= 0)\n",
    "    return 'positivo' if polarity > 0 else 'negativo'  # 1 = positivo, 0 = negativo\n",
    "\n",
    "# Crear una nueva columna 'sentiment' usando TextBlob\n",
    "df['sentiment'] = df['Reader_Review'].apply(get_sentiment) # Se obtiene el sentimiento a partir del texto.\n",
    "\n",
    "# Genero la columna sentimiento sobre el texto ya limpio\n",
    "df['cleaned_sentiment'] = df['cleaned_review'].apply(get_sentiment)"
   ]
  },
  {
   "cell_type": "markdown",
   "id": "daa90be1-379e-439d-a5cd-77a968b66977",
   "metadata": {},
   "source": [
    "Sentimientos : 1 = Positivo / 0 = Negativo"
   ]
  },
  {
   "cell_type": "code",
   "execution_count": 6,
   "id": "084e6ef0-bdcb-4516-8710-04e9992c0a91",
   "metadata": {},
   "outputs": [
    {
     "data": {
      "text/html": [
       "<div>\n",
       "<style scoped>\n",
       "    .dataframe tbody tr th:only-of-type {\n",
       "        vertical-align: middle;\n",
       "    }\n",
       "\n",
       "    .dataframe tbody tr th {\n",
       "        vertical-align: top;\n",
       "    }\n",
       "\n",
       "    .dataframe thead th {\n",
       "        text-align: right;\n",
       "    }\n",
       "</style>\n",
       "<table border=\"1\" class=\"dataframe\">\n",
       "  <thead>\n",
       "    <tr style=\"text-align: right;\">\n",
       "      <th></th>\n",
       "      <th>Reader_Review</th>\n",
       "      <th>Book_Genre</th>\n",
       "      <th>sentiment</th>\n",
       "    </tr>\n",
       "  </thead>\n",
       "  <tbody>\n",
       "    <tr>\n",
       "      <th>0</th>\n",
       "      <td>3 â­ï¸â­ï¸â­ï¸I really wanted to like th...</td>\n",
       "      <td>Romance</td>\n",
       "      <td>positivo</td>\n",
       "    </tr>\n",
       "    <tr>\n",
       "      <th>1</th>\n",
       "      <td>This is a great reference for those who follow...</td>\n",
       "      <td>Cookbook</td>\n",
       "      <td>positivo</td>\n",
       "    </tr>\n",
       "    <tr>\n",
       "      <th>2</th>\n",
       "      <td>it sucks</td>\n",
       "      <td>Romance</td>\n",
       "      <td>negativo</td>\n",
       "    </tr>\n",
       "    <tr>\n",
       "      <th>3</th>\n",
       "      <td>Note: This book was originally published in 19...</td>\n",
       "      <td>Romance</td>\n",
       "      <td>positivo</td>\n",
       "    </tr>\n",
       "    <tr>\n",
       "      <th>4</th>\n",
       "      <td>Easy 5 Stars - I read this over the course of ...</td>\n",
       "      <td>Romance</td>\n",
       "      <td>positivo</td>\n",
       "    </tr>\n",
       "  </tbody>\n",
       "</table>\n",
       "</div>"
      ],
      "text/plain": [
       "                                       Reader_Review Book_Genre sentiment\n",
       "0  3 â­ï¸â­ï¸â­ï¸I really wanted to like th...    Romance  positivo\n",
       "1  This is a great reference for those who follow...   Cookbook  positivo\n",
       "2                                           it sucks    Romance  negativo\n",
       "3  Note: This book was originally published in 19...    Romance  positivo\n",
       "4  Easy 5 Stars - I read this over the course of ...    Romance  positivo"
      ]
     },
     "execution_count": 6,
     "metadata": {},
     "output_type": "execute_result"
    }
   ],
   "source": [
    "# Sentimiento en reseñas sin limpieza de texto\n",
    "df[['Reader_Review', 'Book_Genre', 'sentiment']].head()"
   ]
  },
  {
   "cell_type": "code",
   "execution_count": 7,
   "id": "7c1771cb-a8f3-499b-a761-e2c08258ea67",
   "metadata": {},
   "outputs": [
    {
     "data": {
      "text/html": [
       "<div>\n",
       "<style scoped>\n",
       "    .dataframe tbody tr th:only-of-type {\n",
       "        vertical-align: middle;\n",
       "    }\n",
       "\n",
       "    .dataframe tbody tr th {\n",
       "        vertical-align: top;\n",
       "    }\n",
       "\n",
       "    .dataframe thead th {\n",
       "        text-align: right;\n",
       "    }\n",
       "</style>\n",
       "<table border=\"1\" class=\"dataframe\">\n",
       "  <thead>\n",
       "    <tr style=\"text-align: right;\">\n",
       "      <th></th>\n",
       "      <th>cleaned_review</th>\n",
       "      <th>Book_Genre</th>\n",
       "      <th>cleaned_sentiment</th>\n",
       "    </tr>\n",
       "  </thead>\n",
       "  <tbody>\n",
       "    <tr>\n",
       "      <th>0</th>\n",
       "      <td>3 really wanted like one fell flat bennett vis...</td>\n",
       "      <td>Romance</td>\n",
       "      <td>positivo</td>\n",
       "    </tr>\n",
       "    <tr>\n",
       "      <th>1</th>\n",
       "      <td>great reference follow whole 30 diet found eas...</td>\n",
       "      <td>Cookbook</td>\n",
       "      <td>positivo</td>\n",
       "    </tr>\n",
       "    <tr>\n",
       "      <th>2</th>\n",
       "      <td>sucks</td>\n",
       "      <td>Romance</td>\n",
       "      <td>negativo</td>\n",
       "    </tr>\n",
       "    <tr>\n",
       "      <th>3</th>\n",
       "      <td>note book originally published fairly certain ...</td>\n",
       "      <td>Romance</td>\n",
       "      <td>positivo</td>\n",
       "    </tr>\n",
       "    <tr>\n",
       "      <th>4</th>\n",
       "      <td>easy 5 stars read course two days genre adult ...</td>\n",
       "      <td>Romance</td>\n",
       "      <td>positivo</td>\n",
       "    </tr>\n",
       "  </tbody>\n",
       "</table>\n",
       "</div>"
      ],
      "text/plain": [
       "                                      cleaned_review Book_Genre  \\\n",
       "0  3 really wanted like one fell flat bennett vis...    Romance   \n",
       "1  great reference follow whole 30 diet found eas...   Cookbook   \n",
       "2                                              sucks    Romance   \n",
       "3  note book originally published fairly certain ...    Romance   \n",
       "4  easy 5 stars read course two days genre adult ...    Romance   \n",
       "\n",
       "  cleaned_sentiment  \n",
       "0          positivo  \n",
       "1          positivo  \n",
       "2          negativo  \n",
       "3          positivo  \n",
       "4          positivo  "
      ]
     },
     "execution_count": 7,
     "metadata": {},
     "output_type": "execute_result"
    }
   ],
   "source": [
    "# Sentimiento en reseñas con limpieza de texto\n",
    "df[['cleaned_review', 'Book_Genre', 'cleaned_sentiment']].head()"
   ]
  },
  {
   "cell_type": "code",
   "execution_count": 8,
   "id": "d842a768-d4d4-4d79-a26f-f08b1247040f",
   "metadata": {},
   "outputs": [
    {
     "data": {
      "text/html": [
       "<div>\n",
       "<style scoped>\n",
       "    .dataframe tbody tr th:only-of-type {\n",
       "        vertical-align: middle;\n",
       "    }\n",
       "\n",
       "    .dataframe tbody tr th {\n",
       "        vertical-align: top;\n",
       "    }\n",
       "\n",
       "    .dataframe thead th {\n",
       "        text-align: right;\n",
       "    }\n",
       "</style>\n",
       "<table border=\"1\" class=\"dataframe\">\n",
       "  <thead>\n",
       "    <tr style=\"text-align: right;\">\n",
       "      <th>sentiment</th>\n",
       "      <th>negativo</th>\n",
       "      <th>positivo</th>\n",
       "    </tr>\n",
       "    <tr>\n",
       "      <th>Book_Genre</th>\n",
       "      <th></th>\n",
       "      <th></th>\n",
       "    </tr>\n",
       "  </thead>\n",
       "  <tbody>\n",
       "    <tr>\n",
       "      <th>Cookbook</th>\n",
       "      <td>489</td>\n",
       "      <td>3726</td>\n",
       "    </tr>\n",
       "    <tr>\n",
       "      <th>Literature</th>\n",
       "      <td>1021</td>\n",
       "      <td>3679</td>\n",
       "    </tr>\n",
       "    <tr>\n",
       "      <th>Romance</th>\n",
       "      <td>3626</td>\n",
       "      <td>11859</td>\n",
       "    </tr>\n",
       "    <tr>\n",
       "      <th>Science Fiction</th>\n",
       "      <td>38</td>\n",
       "      <td>913</td>\n",
       "    </tr>\n",
       "  </tbody>\n",
       "</table>\n",
       "</div>"
      ],
      "text/plain": [
       "sentiment        negativo  positivo\n",
       "Book_Genre                         \n",
       "Cookbook              489      3726\n",
       "Literature           1021      3679\n",
       "Romance              3626     11859\n",
       "Science Fiction        38       913"
      ]
     },
     "execution_count": 8,
     "metadata": {},
     "output_type": "execute_result"
    }
   ],
   "source": [
    "# Visualizar la importancia de limpieza de texto\n",
    "# Contar la cantidad de sentimientos positivos y negativos por género -- Sin limpieza\n",
    "sentiment_by_genre = df.groupby(['Book_Genre', 'sentiment']).size().unstack(fill_value=0)\n",
    "sentiment_by_genre"
   ]
  },
  {
   "cell_type": "code",
   "execution_count": 9,
   "id": "b2da1266-d541-4b28-8480-1bdd7ac37a98",
   "metadata": {},
   "outputs": [
    {
     "data": {
      "text/html": [
       "<div>\n",
       "<style scoped>\n",
       "    .dataframe tbody tr th:only-of-type {\n",
       "        vertical-align: middle;\n",
       "    }\n",
       "\n",
       "    .dataframe tbody tr th {\n",
       "        vertical-align: top;\n",
       "    }\n",
       "\n",
       "    .dataframe thead th {\n",
       "        text-align: right;\n",
       "    }\n",
       "</style>\n",
       "<table border=\"1\" class=\"dataframe\">\n",
       "  <thead>\n",
       "    <tr style=\"text-align: right;\">\n",
       "      <th>cleaned_sentiment</th>\n",
       "      <th>negativo</th>\n",
       "      <th>positivo</th>\n",
       "    </tr>\n",
       "    <tr>\n",
       "      <th>Book_Genre</th>\n",
       "      <th></th>\n",
       "      <th></th>\n",
       "    </tr>\n",
       "  </thead>\n",
       "  <tbody>\n",
       "    <tr>\n",
       "      <th>Cookbook</th>\n",
       "      <td>524</td>\n",
       "      <td>3691</td>\n",
       "    </tr>\n",
       "    <tr>\n",
       "      <th>Literature</th>\n",
       "      <td>1168</td>\n",
       "      <td>3532</td>\n",
       "    </tr>\n",
       "    <tr>\n",
       "      <th>Romance</th>\n",
       "      <td>3820</td>\n",
       "      <td>11665</td>\n",
       "    </tr>\n",
       "    <tr>\n",
       "      <th>Science Fiction</th>\n",
       "      <td>47</td>\n",
       "      <td>904</td>\n",
       "    </tr>\n",
       "  </tbody>\n",
       "</table>\n",
       "</div>"
      ],
      "text/plain": [
       "cleaned_sentiment  negativo  positivo\n",
       "Book_Genre                           \n",
       "Cookbook                524      3691\n",
       "Literature             1168      3532\n",
       "Romance                3820     11665\n",
       "Science Fiction          47       904"
      ]
     },
     "execution_count": 9,
     "metadata": {},
     "output_type": "execute_result"
    }
   ],
   "source": [
    "# Datos de los sentimientos por genero -- pero con limpieza de texto\n",
    "sentiment_by_genre_clean = df.groupby(['Book_Genre', 'cleaned_sentiment']).size().unstack(fill_value=0)\n",
    "sentiment_by_genre_clean"
   ]
  },
  {
   "cell_type": "markdown",
   "id": "554ab29f-8f97-41d6-9aef-fdf33a08160d",
   "metadata": {},
   "source": [
    "Visualmente se verifica que el texto limpio influye en la clasificacion de sentimientos."
   ]
  },
  {
   "cell_type": "markdown",
   "id": "02299335-0782-4466-b500-10a3d34dd8fe",
   "metadata": {},
   "source": [
    "Por este sentido se decide utilizar la parte del filtro pero limpia"
   ]
  },
  {
   "cell_type": "code",
   "execution_count": 10,
   "id": "344431e4-13f7-4b18-8e64-a336f0e4ce12",
   "metadata": {},
   "outputs": [
    {
     "data": {
      "text/plain": [
       "<Figure size 1000x600 with 0 Axes>"
      ]
     },
     "metadata": {},
     "output_type": "display_data"
    },
    {
     "data": {
      "image/png": "[encoded data removed]",
      "text/plain": [
       "<Figure size 640x480 with 1 Axes>"
      ]
     },
     "metadata": {},
     "output_type": "display_data"
    }
   ],
   "source": [
    "# Gráfico de barras para sentimientos por género\n",
    "plt.figure(figsize=(10, 6))\n",
    "sentiment_by_genre_clean.plot(kind='bar', stacked=True)\n",
    "plt.title('Distribución de Sentimientos por Género de Libro')\n",
    "plt.xlabel('Género')\n",
    "plt.ylabel('Número de Reseñas')\n",
    "plt.xticks(rotation=45)\n",
    "plt.show()"
   ]
  },
  {
   "cell_type": "code",
   "execution_count": 11,
   "id": "ed341ee9-634e-497a-80cc-2b4e0d44a345",
   "metadata": {},
   "outputs": [
    {
     "name": "stdout",
     "output_type": "stream",
     "text": [
      "cleaned_sentiment\n",
      "positivo    0.780719\n",
      "negativo    0.219281\n",
      "Name: proportion, dtype: float64\n"
     ]
    }
   ],
   "source": [
    "# Proporción de reseñas positivas y negativas en general\n",
    "sentiment_distribution = df['cleaned_sentiment'].value_counts(normalize=True)\n",
    "print(sentiment_distribution)"
   ]
  },
  {
   "cell_type": "code",
   "execution_count": 12,
   "id": "b8cd5280-bb18-4089-85ae-b7f43d41af73",
   "metadata": {},
   "outputs": [],
   "source": [
    "# Dividir el conjunto de datos en entrenamiento y prueba\n",
    "X = df['cleaned_review']  # Características (reseñas)\n",
    "y = df['cleaned_sentiment']  # Etiquetas (sentimiento)\n",
    "\n",
    "X_train, X_test, y_train, y_test = train_test_split(X, y, test_size=0.2, random_state=42)"
   ]
  },
  {
   "cell_type": "code",
   "execution_count": 13,
   "id": "30d9fd81-eb5f-4cdb-be6b-5feb797d2e9b",
   "metadata": {},
   "outputs": [],
   "source": [
    "# Convertir el texto en vectores numéricos usando TF-IDF\n",
    "vectorizer = TfidfVectorizer(max_features=5000)  # Limitar a las 5000 palabras más frecuentes\n",
    "X_train_tfidf = vectorizer.fit_transform(X_train)\n",
    "X_test_tfidf = vectorizer.transform(X_test)"
   ]
  },
  {
   "cell_type": "code",
   "execution_count": 14,
   "id": "46f504da-1d17-41c0-b582-0d65f6b1896f",
   "metadata": {},
   "outputs": [],
   "source": [
    "from sklearn.naive_bayes import MultinomialNB\n",
    "# Modelo Naive Bayes\n",
    "nb_model = MultinomialNB()\n",
    "nb_model.fit(X_train_tfidf, y_train)\n",
    "\n",
    "# Hacer predicciones\n",
    "y_pred_nb = nb_model.predict(X_test_tfidf)"
   ]
  },
  {
   "cell_type": "code",
   "execution_count": 15,
   "id": "4e56eaf4-fb9e-4317-98b8-2fd785c6902a",
   "metadata": {},
   "outputs": [],
   "source": [
    "# Modelo de Regresión Logística\n",
    "lr_model = LogisticRegression(max_iter=1000)\n",
    "lr_model.fit(X_train_tfidf, y_train)\n",
    "\n",
    "# Hacer predicciones\n",
    "y_pred_lr = lr_model.predict(X_test_tfidf)"
   ]
  },
  {
   "cell_type": "code",
   "execution_count": 16,
   "id": "d0d32e78-4f04-46f9-a824-7da10d1a6c38",
   "metadata": {},
   "outputs": [],
   "source": [
    "from sklearn.svm import SVC\n",
    "# Modelo SVM\n",
    "svm_model = SVC(kernel='linear')\n",
    "svm_model.fit(X_train_tfidf, y_train)\n",
    "\n",
    "# Hacer predicciones\n",
    "y_pred_svm = svm_model.predict(X_test_tfidf)"
   ]
  },
  {
   "cell_type": "code",
   "execution_count": 17,
   "id": "10ed4610-b907-4b14-bbcb-e34ef3412435",
   "metadata": {},
   "outputs": [
    {
     "name": "stdout",
     "output_type": "stream",
     "text": [
      "Naive Bayes:\n",
      "              precision    recall  f1-score   support\n",
      "\n",
      "    negativo       0.74      0.13      0.22      1137\n",
      "    positivo       0.80      0.99      0.88      3934\n",
      "\n",
      "    accuracy                           0.79      5071\n",
      "   macro avg       0.77      0.56      0.55      5071\n",
      "weighted avg       0.78      0.79      0.73      5071\n",
      "\n",
      "[[ 145  992]\n",
      " [  50 3884]]\n",
      "Regresión Logística:\n",
      "              precision    recall  f1-score   support\n",
      "\n",
      "    negativo       0.86      0.71      0.77      1137\n",
      "    positivo       0.92      0.97      0.94      3934\n",
      "\n",
      "    accuracy                           0.91      5071\n",
      "   macro avg       0.89      0.84      0.86      5071\n",
      "weighted avg       0.91      0.91      0.90      5071\n",
      "\n",
      "[[ 803  334]\n",
      " [ 135 3799]]\n",
      "SVM:\n",
      "              precision    recall  f1-score   support\n",
      "\n",
      "    negativo       0.85      0.81      0.83      1137\n",
      "    positivo       0.95      0.96      0.95      3934\n",
      "\n",
      "    accuracy                           0.92      5071\n",
      "   macro avg       0.90      0.88      0.89      5071\n",
      "weighted avg       0.92      0.92      0.92      5071\n",
      "\n",
      "[[ 924  213]\n",
      " [ 169 3765]]\n"
     ]
    }
   ],
   "source": [
    "# Evaluación de los modelos\n",
    "print(\"Naive Bayes:\")\n",
    "print(classification_report(y_test, y_pred_nb))\n",
    "print(confusion_matrix(y_test, y_pred_nb))\n",
    "\n",
    "print(\"Regresión Logística:\")\n",
    "print(classification_report(y_test, y_pred_lr))\n",
    "print(confusion_matrix(y_test, y_pred_lr))\n",
    "\n",
    "print(\"SVM:\")\n",
    "print(classification_report(y_test, y_pred_svm))\n",
    "print(confusion_matrix(y_test, y_pred_svm))"
   ]
  },
  {
   "cell_type": "code",
   "execution_count": 18,
   "id": "ce7a32c0-5541-41a2-8c58-d67e551e3e7f",
   "metadata": {},
   "outputs": [
    {
     "data": {
      "image/png": "[encoded data removed]",
      "text/plain": [
       "<Figure size 600x400 with 2 Axes>"
      ]
     },
     "metadata": {},
     "output_type": "display_data"
    },
    {
     "data": {
      "image/png": "[encoded data removed]",
      "text/plain": [
       "<Figure size 600x400 with 2 Axes>"
      ]
     },
     "metadata": {},
     "output_type": "display_data"
    },
    {
     "data": {
      "image/png": "[encoded data removed]",
      "text/plain": [
       "<Figure size 600x400 with 2 Axes>"
      ]
     },
     "metadata": {},
     "output_type": "display_data"
    }
   ],
   "source": [
    "# Visualización de la matriz de confusión\n",
    "def plot_confusion_matrix(cm, model_name):\n",
    "    plt.figure(figsize=(6, 4))\n",
    "    sns.heatmap(cm, annot=True, fmt='d', cmap='Blues', xticklabels=['Negativo', 'Positivo'], yticklabels=['Negativo', 'Positivo'])\n",
    "    plt.title(f'Matriz de Confusión: {model_name}')\n",
    "    plt.xlabel('Predicción')\n",
    "    plt.ylabel('Real')\n",
    "    plt.show()\n",
    "\n",
    "# Matriz de confusión para Naive Bayes\n",
    "cm_nb = confusion_matrix(y_test, y_pred_nb)\n",
    "plot_confusion_matrix(cm_nb, \"Naive Bayes\")\n",
    "\n",
    "# Matriz de confusión para Regresión Logística\n",
    "cm_lr = confusion_matrix(y_test, y_pred_lr)\n",
    "plot_confusion_matrix(cm_lr, \"Regresión Logística\")\n",
    "\n",
    "# Matriz de confusión para SVM\n",
    "cm_svm = confusion_matrix(y_test, y_pred_svm)\n",
    "plot_confusion_matrix(cm_svm, \"SVM\")"
   ]
  },
  {
   "cell_type": "markdown",
   "id": "815f4eff-f366-4b28-b7e8-27aea1373dbb",
   "metadata": {},
   "source": [
    "Se identifica que el modelo SVM tiene menos falsos positivos, y tiene una precision mas alta."
   ]
  },
  {
   "cell_type": "code",
   "execution_count": 19,
   "id": "1c894693-cb43-4017-9dc7-2f1cc54e2af7",
   "metadata": {},
   "outputs": [
    {
     "name": "stdout",
     "output_type": "stream",
     "text": [
      "Precisión cruzada: 0.9290927021696251\n"
     ]
    }
   ],
   "source": [
    "from sklearn.model_selection import cross_val_score\n",
    "from sklearn.svm import SVC\n",
    "\n",
    "# Crear el clasificador SVM\n",
    "svm = SVC(kernel='linear', C=1)\n",
    "\n",
    "# Usar los datos ya vectorizados (X_train_tfidf) para la validación cruzada\n",
    "scores = cross_val_score(svm, X_train_tfidf, y_train, cv=5, scoring='accuracy')\n",
    "\n",
    "# Mostrar la precisión promedio de la validación cruzada\n",
    "print(\"Precisión cruzada:\", scores.mean())\n"
   ]
  },
  {
   "cell_type": "code",
   "execution_count": 20,
   "id": "6239c947-3059-43c3-8fd0-ef2e06e35c4b",
   "metadata": {},
   "outputs": [
    {
     "name": "stdout",
     "output_type": "stream",
     "text": [
      "Mejores parámetros para SVM: {'C': 1, 'kernel': 'linear'}\n",
      "Mejor score: 0.9290927021696251\n"
     ]
    }
   ],
   "source": [
    "from sklearn.model_selection import GridSearchCV\n",
    "from sklearn.svm import SVC\n",
    "\n",
    "# Definir la rejilla de parámetros para la búsqueda de hiperparámetros\n",
    "param_grid = {\n",
    "    'C': [0.1, 1, 10],         # Valor de regularización\n",
    "    'kernel': ['linear', 'rbf'],  # Tipos de kernel\n",
    "}\n",
    "\n",
    "# Crear el GridSearchCV con validación cruzada\n",
    "grid_search = GridSearchCV(SVC(), param_grid, cv=5, scoring='accuracy')\n",
    "\n",
    "# Ajustar el modelo con los datos de entrenamiento ya vectorizados\n",
    "grid_search.fit(X_train_tfidf, y_train)\n",
    "\n",
    "# Mostrar los mejores parámetros y el mejor puntaje (precisión promedio)\n",
    "print(\"Mejores parámetros para SVM:\", grid_search.best_params_)\n",
    "print(\"Mejor score:\", grid_search.best_score_)"
   ]
  },
  {
   "cell_type": "code",
   "execution_count": 21,
   "id": "54a3593a-9399-4054-b26f-cb92ca27f1b1",
   "metadata": {},
   "outputs": [
    {
     "name": "stdout",
     "output_type": "stream",
     "text": [
      "Resultados de la búsqueda de hiperparámetros:\n",
      "{'mean_fit_time': array([22.59808865, 26.98357806, 16.18344774, 49.14844875, 12.68793354,\n",
      "       87.19602404]), 'std_fit_time': array([0.17979215, 0.52398212, 0.26128328, 0.52561381, 0.18503927,\n",
      "       1.04018036]), 'mean_score_time': array([3.88882585, 5.03478498, 3.04636126, 5.32915473, 2.20942941,\n",
      "       5.75134931]), 'std_score_time': array([0.02683047, 0.05140602, 0.02648596, 0.04786305, 0.02959515,\n",
      "       0.06173483]), 'param_C': masked_array(data=[0.1, 0.1, 1, 1, 10, 10],\n",
      "             mask=[False, False, False, False, False, False],\n",
      "       fill_value='?',\n",
      "            dtype=object), 'param_kernel': masked_array(data=['linear', 'rbf', 'linear', 'rbf', 'linear', 'rbf'],\n",
      "             mask=[False, False, False, False, False, False],\n",
      "       fill_value='?',\n",
      "            dtype=object), 'params': [{'C': 0.1, 'kernel': 'linear'}, {'C': 0.1, 'kernel': 'rbf'}, {'C': 1, 'kernel': 'linear'}, {'C': 1, 'kernel': 'rbf'}, {'C': 10, 'kernel': 'linear'}, {'C': 10, 'kernel': 'rbf'}], 'split0_test_score': array([0.85576923, 0.80793886, 0.93219921, 0.92357002, 0.9265286 ,\n",
      "       0.9331854 ]), 'split1_test_score': array([0.85527613, 0.80843195, 0.92726824, 0.9183925 , 0.9260355 ,\n",
      "       0.92628205]), 'split2_test_score': array([0.85478304, 0.80793886, 0.92899408, 0.91814596, 0.92924063,\n",
      "       0.92776134]), 'split3_test_score': array([0.85601578, 0.81139053, 0.92726824, 0.91617357, 0.92258383,\n",
      "       0.92529586]), 'split4_test_score': array([0.85872781, 0.80892505, 0.92973373, 0.92381657, 0.92357002,\n",
      "       0.93047337]), 'mean_test_score': array([0.8561144 , 0.80892505, 0.9290927 , 0.92001972, 0.92559172,\n",
      "       0.92859961]), 'std_test_score': array([0.00137361, 0.00128584, 0.00182912, 0.00309749, 0.00234623,\n",
      "       0.00288198]), 'rank_test_score': array([5, 6, 1, 4, 3, 2])}\n"
     ]
    }
   ],
   "source": [
    "# Mostrar los resultados completos de la búsqueda\n",
    "print(\"Resultados de la búsqueda de hiperparámetros:\")\n",
    "print(grid_search.cv_results_)"
   ]
  },
  {
   "cell_type": "code",
   "execution_count": 22,
   "id": "4038bf04-897b-4a98-9c53-ee83a781bc83",
   "metadata": {},
   "outputs": [
    {
     "name": "stdout",
     "output_type": "stream",
     "text": [
      "Vocabulario:  ['00' '000' '00123' ... '𝙬𝙤𝙧𝙡𝙙' '𝙬𝙤𝙪𝙡𝙙' '𝙮𝙤𝙪']\n",
      "Promedio de palabras por comentario en el conjunto de entrenamiento: 68.85631163708086\n",
      "Promedio de palabras por comentario en el conjunto de prueba: 64.246302504437\n"
     ]
    }
   ],
   "source": [
    "from sklearn.feature_extraction.text import CountVectorizer\n",
    "\n",
    "# Contar las palabras en los comentarios\n",
    "count_vect = CountVectorizer(analyzer='word')\n",
    "count_vect.fit(X_train)\n",
    "\n",
    "# Aplicar la transformación a los datos de entrenamiento y prueba\n",
    "xtrain_count = count_vect.transform(X_train)\n",
    "xtest_count = count_vect.transform(X_test)\n",
    "\n",
    "# Ver las características (palabras que se están contando)\n",
    "print(\"Vocabulario: \", count_vect.get_feature_names_out())\n",
    "\n",
    "# Contar cuántas palabras tiene cada comentario\n",
    "num_words_train = xtrain_count.sum(axis=1)  # Suma por cada fila (comentario)\n",
    "num_words_test = xtest_count.sum(axis=1)\n",
    "print(\"Promedio de palabras por comentario en el conjunto de entrenamiento:\", num_words_train.mean())\n",
    "print(\"Promedio de palabras por comentario en el conjunto de prueba:\", num_words_test.mean())\n"
   ]
  },
  {
   "cell_type": "code",
   "execution_count": 23,
   "id": "fd75078e-d5e2-4fe5-95f4-6cddc7fd0513",
   "metadata": {},
   "outputs": [
    {
     "name": "stdout",
     "output_type": "stream",
     "text": [
      "Promedio de caracteres por comentario en el conjunto de entrenamiento: 3.6775263424890317\n",
      "Promedio de caracteres por comentario en el conjunto de prueba: 3.672349688846214\n"
     ]
    }
   ],
   "source": [
    "# Caracteres\n",
    "tfidf_vect_ngram_chars = TfidfVectorizer(analyzer='char')\n",
    "xtrain_tfidf_ngram_chars = tfidf_vect_ngram_chars.fit_transform(X_train)\n",
    "xtest_tfidf_ngram_chars = tfidf_vect_ngram_chars.transform(X_test)\n",
    "\n",
    "# Contar cuántos caracteres hay en total en cada comentario\n",
    "num_chars_train = xtrain_tfidf_ngram_chars.sum(axis=1)\n",
    "num_chars_test = xtest_tfidf_ngram_chars.sum(axis=1)\n",
    "print(\"Promedio de caracteres por comentario en el conjunto de entrenamiento:\", num_chars_train.mean())\n",
    "print(\"Promedio de caracteres por comentario en el conjunto de prueba:\", num_chars_test.mean())\n"
   ]
  },
  {
   "cell_type": "code",
   "execution_count": 24,
   "id": "952f0552-d339-4b47-9099-a16d43cd6264",
   "metadata": {},
   "outputs": [
    {
     "name": "stdout",
     "output_type": "stream",
     "text": [
      "Promedio de n-gramas por comentario en el conjunto de entrenamiento: 8.679542034068017\n",
      "Promedio de n-gramas por comentario en el conjunto de prueba: 4.523498320972246\n"
     ]
    }
   ],
   "source": [
    "# n-gramas (palabras de 2 a 3)\n",
    "tfidf_vect_ngram = TfidfVectorizer(analyzer='word', ngram_range=(2, 3))\n",
    "xtrain_tfidf_ngram = tfidf_vect_ngram.fit_transform(X_train)\n",
    "xtest_tfidf_ngram = tfidf_vect_ngram.transform(X_test)\n",
    "\n",
    "# Contar cuántos n-gramas hay en total por comentario\n",
    "num_ngrams_train = xtrain_tfidf_ngram.sum(axis=1)\n",
    "num_ngrams_test = xtest_tfidf_ngram.sum(axis=1)\n",
    "print(\"Promedio de n-gramas por comentario en el conjunto de entrenamiento:\", num_ngrams_train.mean())\n",
    "print(\"Promedio de n-gramas por comentario en el conjunto de prueba:\", num_ngrams_test.mean())\n"
   ]
  },
  {
   "cell_type": "code",
   "execution_count": 25,
   "id": "d6ef9b98-8b48-4de3-b72f-779f4af8a969",
   "metadata": {},
   "outputs": [
    {
     "name": "stdout",
     "output_type": "stream",
     "text": [
      "Promedio de TF-IDF por comentario en el conjunto de entrenamiento: 5.266002949142964\n",
      "Promedio de TF-IDF por comentario en el conjunto de prueba: 5.133486218960983\n"
     ]
    }
   ],
   "source": [
    "# TF-IDF para las palabras\n",
    "tfidf_vect = TfidfVectorizer(analyzer='word')\n",
    "xtrain_tfidf = tfidf_vect.fit_transform(X_train)\n",
    "xtest_tfidf = tfidf_vect.transform(X_test)\n",
    "\n",
    "# Obtener el promedio de la puntuación TF-IDF por comentario\n",
    "num_tfidf_train = xtrain_tfidf.sum(axis=1)  # Suma de la puntuación TF-IDF por comentario\n",
    "num_tfidf_test = xtest_tfidf.sum(axis=1)\n",
    "print(\"Promedio de TF-IDF por comentario en el conjunto de entrenamiento:\", num_tfidf_train.mean())\n",
    "print(\"Promedio de TF-IDF por comentario en el conjunto de prueba:\", num_tfidf_test.mean())\n"
   ]
  },
  {
   "cell_type": "code",
   "execution_count": 26,
   "id": "628c7c68-083d-4ad9-a6f9-a4b4c2a639ab",
   "metadata": {},
   "outputs": [],
   "source": [
    "from sklearn import metrics\n",
    "# Definir las representaciones de los datos\n",
    "pares = [\n",
    "    ('conteo', xtrain_count, xtest_count),\n",
    "    ('palabras', xtrain_tfidf, xtest_tfidf),\n",
    "    ('ngramas', xtrain_tfidf_ngram, xtest_tfidf_ngram),\n",
    "    ('caracteres', xtrain_tfidf_ngram_chars, xtest_tfidf_ngram_chars)\n",
    "]"
   ]
  },
  {
   "cell_type": "code",
   "execution_count": 27,
   "id": "f49eb660-143e-4ef7-88c1-333ae3b50e8c",
   "metadata": {},
   "outputs": [],
   "source": [
    "lr = LogisticRegression(max_iter=1000)  # El modelo de regresión logística"
   ]
  },
  {
   "cell_type": "code",
   "execution_count": 28,
   "id": "cc4a140b-f923-416d-84df-49001fb68340",
   "metadata": {},
   "outputs": [
    {
     "name": "stdout",
     "output_type": "stream",
     "text": [
      "conteo \n",
      "            positivas  negativas\n",
      "positivas        989        148\n",
      "negativas        216       3718 \n",
      "\n",
      "palabras \n",
      "            positivas  negativas\n",
      "positivas        757        380\n",
      "negativas        108       3826 \n",
      "\n",
      "ngramas \n",
      "            positivas  negativas\n",
      "positivas         24       1113\n",
      "negativas          0       3934 \n",
      "\n",
      "caracteres \n",
      "            positivas  negativas\n",
      "positivas        308        829\n",
      "negativas         94       3840 \n",
      "\n"
     ]
    }
   ],
   "source": [
    "for datos in pares:\n",
    "    # Entrenar el modelo con la representación de texto actual\n",
    "    lr.fit(datos[1], y_train)\n",
    "    \n",
    "    # Hacer predicciones sobre el conjunto de prueba\n",
    "    predictions = lr.predict(datos[2])\n",
    "    \n",
    "    # Calcular la matriz de confusión\n",
    "    df_confusion = pd.DataFrame(metrics.confusion_matrix(y_test, predictions), index=['positivas', 'negativas'], columns=['positivas', 'negativas'])\n",
    "    \n",
    "    # Mostrar los resultados\n",
    "    print(datos[0], '\\n', df_confusion, '\\n')\n"
   ]
  }
 ],
 "metadata": {
  "kernelspec": {
   "display_name": "Python 3 (ipykernel)",
   "language": "python",
   "name": "python3"
  },
  "language_info": {
   "codemirror_mode": {
    "name": "ipython",
    "version": 3
   },
   "file_extension": ".py",
   "mimetype": "text/x-python",
   "name": "python",
   "nbconvert_exporter": "python",
   "pygments_lexer": "ipython3",
   "version": "3.12.4"
  }
 },
 "nbformat": 4,
 "nbformat_minor": 5
}
